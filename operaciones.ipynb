{
  "nbformat": 4,
  "nbformat_minor": 0,
  "metadata": {
    "colab": {
      "name": "operaciones.ipynb",
      "provenance": [],
      "collapsed_sections": [],
      "authorship_tag": "ABX9TyMMcTC6RFMyWVLU9SKv43vo",
      "include_colab_link": true
    },
    "kernelspec": {
      "name": "python3",
      "display_name": "Python 3"
    }
  },
  "cells": [
    {
      "cell_type": "markdown",
      "metadata": {
        "id": "view-in-github",
        "colab_type": "text"
      },
      "source": [
        "<a href=\"https://colab.research.google.com/github/Manuela0829/programaci-n-/blob/main/operaciones.ipynb\" target=\"_parent\"><img src=\"https://colab.research.google.com/assets/colab-badge.svg\" alt=\"Open In Colab\"/></a>"
      ]
    },
    {
      "cell_type": "code",
      "metadata": {
        "colab": {
          "base_uri": "https://localhost:8080/"
        },
        "id": "KbMVuFRNonI8",
        "outputId": "1f4910b1-26f3-4a44-a88f-9d9a4b2bf096"
      },
      "source": [
        "numeroA = 87\r\n",
        "numeroB = 83\r\n",
        "sumar = numeroA + numeroB\r\n",
        "print(\"el resultado de la suma es\", sumar)\r\n",
        "print(f\"la suma dio {sumar} exitosamente\")"
      ],
      "execution_count": 1,
      "outputs": [
        {
          "output_type": "stream",
          "text": [
            "el resultado de la suma es 170\n",
            "la suma dio 170 exitosamente\n"
          ],
          "name": "stdout"
        }
      ]
    },
    {
      "cell_type": "code",
      "metadata": {
        "colab": {
          "base_uri": "https://localhost:8080/"
        },
        "id": "z3wNcYBLqW5s",
        "outputId": "d1997949-5aa2-42d3-910d-722b5badeac4"
      },
      "source": [
        "restar = numeroA - numeroB\r\n",
        "print(f\"la resta dio {restar} exitosamente\")"
      ],
      "execution_count": 2,
      "outputs": [
        {
          "output_type": "stream",
          "text": [
            "la resta dio 4 exitosamente\n"
          ],
          "name": "stdout"
        }
      ]
    },
    {
      "cell_type": "code",
      "metadata": {
        "colab": {
          "base_uri": "https://localhost:8080/"
        },
        "id": "2sVoIdh-q0nH",
        "outputId": "4c0929f9-54ee-4010-b14d-588e88e81bea"
      },
      "source": [
        "multiplicar = numeroA * numeroB\r\n",
        "print(f\"la multiplicacion dio {multiplicar} exitosamente\")"
      ],
      "execution_count": 3,
      "outputs": [
        {
          "output_type": "stream",
          "text": [
            "la multiplicacion dio 7221 exitosamente\n"
          ],
          "name": "stdout"
        }
      ]
    },
    {
      "cell_type": "code",
      "metadata": {
        "colab": {
          "base_uri": "https://localhost:8080/"
        },
        "id": "X3LhxxinrO6k",
        "outputId": "79b90ab1-b4ae-42ea-fb2d-cce85bdd01fa"
      },
      "source": [
        "dividir = numeroA / numeroB\r\n",
        "print(f\"la division dio {dividir} exitosamente\")"
      ],
      "execution_count": 4,
      "outputs": [
        {
          "output_type": "stream",
          "text": [
            "la division 1.0481927710843373 exitosamente\n"
          ],
          "name": "stdout"
        }
      ]
    },
    {
      "cell_type": "code",
      "metadata": {
        "colab": {
          "base_uri": "https://localhost:8080/"
        },
        "id": "oLnNFR6SrdiD",
        "outputId": "9c2aed0f-4bc4-4b65-bf5c-ca074293baf0"
      },
      "source": [
        "exponente = numeroA**numeroB\r\n",
        "print(f\"la exponente dio {exponente} exitosamente\")"
      ],
      "execution_count": 5,
      "outputs": [
        {
          "output_type": "stream",
          "text": [
            "la exponente dio 95520803578074031289654724902995527135233778813634000978889916233781743662262147843321712616762343928284127457905617097020398733498243608922446868527996864796103 exitosamente\n"
          ],
          "name": "stdout"
        }
      ]
    }
  ]
}