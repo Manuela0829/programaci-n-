{
  "nbformat": 4,
  "nbformat_minor": 0,
  "metadata": {
    "colab": {
      "name": "parcial#1.ipynb",
      "provenance": [],
      "collapsed_sections": [],
      "include_colab_link": true
    },
    "kernelspec": {
      "name": "python3",
      "display_name": "Python 3"
    },
    "language_info": {
      "name": "python"
    }
  },
  "cells": [
    {
      "cell_type": "markdown",
      "metadata": {
        "id": "view-in-github",
        "colab_type": "text"
      },
      "source": [
        "<a href=\"https://colab.research.google.com/github/Manuela0829/programaci-n-/blob/main/parcial_1.ipynb\" target=\"_parent\"><img src=\"https://colab.research.google.com/assets/colab-badge.svg\" alt=\"Open In Colab\"/></a>"
      ]
    },
    {
      "cell_type": "code",
      "metadata": {
        "id": "d_N6DBcvig_2"
      },
      "source": [
        "def punto1(n1, n2, n3):\n",
        "    print('n1 + n2 + n3 =', n1 + n2 + n3)\n",
        "    print('n1 - n2 - n3 =', n1 - n2 - n3)\n",
        "    print('n1 * n2 * n3 =', n1 * n2 * n3)\n",
        "    print('n1 / n2 / n3 =', n1 / n2 / n3)\n",
        "    print('n1 ^ n2 ^ n3 =', n1 ** n2 ** n3)"
      ],
      "execution_count": null,
      "outputs": []
    },
    {
      "cell_type": "code",
      "metadata": {
        "id": "EsJBSmPwimVy"
      },
      "source": [
        "def punto2(l1, l2, l3):\n",
        "    print('Lista 1:', l1)\n",
        "    print('Lista 2:', l2)\n",
        "    print('Lista 3:', l3)"
      ],
      "execution_count": null,
      "outputs": []
    },
    {
      "cell_type": "code",
      "metadata": {
        "id": "Hyx6yM7AioLs"
      },
      "source": [
        "def punto3(b, h):\n",
        "    print('Area =', b * h / 2)"
      ],
      "execution_count": null,
      "outputs": []
    },
    {
      "cell_type": "code",
      "metadata": {
        "id": "YoXVTSYzipbI"
      },
      "source": [
        "def punto4(lista):\n",
        "    promedio = sum(lista) / len(lista)\n",
        "    maximo = max(lista)\n",
        "    minimo = min(lista)\n",
        "    print('Promedio =', promedio)\n",
        "    print('Máximo =', maximo)\n",
        "    print('Mínimo =', minimo)"
      ],
      "execution_count": null,
      "outputs": []
    },
    {
      "cell_type": "code",
      "metadata": {
        "id": "RhkaIIfoisEK"
      },
      "source": [
        "def punto5(n):\n",
        "    n1 = 0\n",
        "    n2 = 1\n",
        "    if n == 0 or n == 1:\n",
        "        print(n)\n",
        "    else:\n",
        "        for i in range(n - 1):\n",
        "            nt = n2\n",
        "            n2 = n1 + n2\n",
        "            n1 = nt\n",
        "\n",
        "        print(n2)"
      ],
      "execution_count": null,
      "outputs": []
    },
    {
      "cell_type": "code",
      "metadata": {
        "colab": {
          "base_uri": "https://localhost:8080/"
        },
        "id": "CkfCWEEFjS7Q",
        "outputId": "4287152a-3433-4bd5-fd5a-9163418437d2"
      },
      "source": [
        "print('### PUNTO 1 ###')\n",
        "n1 = int(input('Dígite el número 1: '))\n",
        "n2 = int(input('Dígite el número 2: '))\n",
        "n3 = int(input('Dígite el número 3: '))\n",
        "punto1(n1, n2, n3)"
      ],
      "execution_count": null,
      "outputs": [
        {
          "output_type": "stream",
          "text": [
            "### PUNTO 1 ###\n",
            "Dígite el número 1: 0\n",
            "Dígite el número 2: 1\n",
            "Dígite el número 3: 2\n",
            "n1 + n2 + n3 = 3\n",
            "n1 - n2 - n3 = -3\n",
            "n1 * n2 * n3 = 0\n",
            "n1 / n2 / n3 = 0.0\n",
            "n1 ^ n2 ^ n3 = 0\n"
          ],
          "name": "stdout"
        }
      ]
    },
    {
      "cell_type": "code",
      "metadata": {
        "colab": {
          "base_uri": "https://localhost:8080/"
        },
        "id": "kGsk8O-sjXUT",
        "outputId": "2dd974b0-b7e6-4dff-e305-97bb18369a1a"
      },
      "source": [
        "print('### PUNTO 2 ###')\n",
        "l1 = input('Dígite la lista 1: ')\n",
        "l2 = input('Dígite la lista 2: ')\n",
        "l3 = input('Dígite la lista 3: ')\n",
        "punto2(l1, l2, l3)"
      ],
      "execution_count": null,
      "outputs": [
        {
          "output_type": "stream",
          "text": [
            "### PUNTO 2 ###\n",
            "Dígite la lista 1: 1 2 3\n",
            "Dígite la lista 2: 4 5 6\n",
            "Dígite la lista 3: 7 8 0\n",
            "Lista 1: 1 2 3\n",
            "Lista 2: 4 5 6\n",
            "Lista 3: 7 8 0\n"
          ],
          "name": "stdout"
        }
      ]
    },
    {
      "cell_type": "code",
      "metadata": {
        "colab": {
          "base_uri": "https://localhost:8080/"
        },
        "id": "VaP4dEGnjhET",
        "outputId": "5b11f23c-5005-440f-cb3f-a40b480758d3"
      },
      "source": [
        "print('### PUNTO 3 ###')\n",
        "b = float(input('Dígite la base: '))\n",
        "h = float(input('Dígite la altura: '))\n",
        "punto3(b, h)"
      ],
      "execution_count": null,
      "outputs": [
        {
          "output_type": "stream",
          "text": [
            "### PUNTO 3 ###\n",
            "Dígite la base: 3\n",
            "Dígite la altura: 2\n",
            "Area = 3.0\n"
          ],
          "name": "stdout"
        }
      ]
    },
    {
      "cell_type": "code",
      "metadata": {
        "colab": {
          "base_uri": "https://localhost:8080/"
        },
        "id": "nC_bjaShjrnk",
        "outputId": "130f3766-bd8e-4f7b-82d9-73fd434bf476"
      },
      "source": [
        "print('### PUNTO 4 ###')\n",
        "lista = input('Dígite la lista: ').split()\n",
        "for i in range(len(lista)):\n",
        "    lista[i] = int(lista[i])\n",
        "\n",
        "punto4(lista)"
      ],
      "execution_count": null,
      "outputs": [
        {
          "output_type": "stream",
          "text": [
            "### PUNTO 4 ###\n",
            "Dígite la lista: 1 2 3\n",
            "Promedio = 2.0\n",
            "Máximo = 3\n",
            "Mínimo = 1\n"
          ],
          "name": "stdout"
        }
      ]
    },
    {
      "cell_type": "code",
      "metadata": {
        "colab": {
          "base_uri": "https://localhost:8080/"
        },
        "id": "S0U3gNH0j0A7",
        "outputId": "e311a4e5-e655-4c4b-b1d2-72b3c69d3a0e"
      },
      "source": [
        "print('### PUNTO 5 ###')\n",
        "n = int(input('Dígite el número n: '))\n",
        "punto5(n)"
      ],
      "execution_count": null,
      "outputs": [
        {
          "output_type": "stream",
          "text": [
            "### PUNTO 5 ###\n",
            "Dígite el número n: 10\n",
            "55\n"
          ],
          "name": "stdout"
        }
      ]
    }
  ]
}