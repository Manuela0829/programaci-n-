{
  "nbformat": 4,
  "nbformat_minor": 0,
  "metadata": {
    "colab": {
      "name": "TallerHerencia.ipynb",
      "provenance": [],
      "authorship_tag": "ABX9TyNSOEG2799CSCeYxF9JtfMf",
      "include_colab_link": true
    },
    "kernelspec": {
      "name": "python3",
      "display_name": "Python 3"
    },
    "language_info": {
      "name": "python"
    }
  },
  "cells": [
    {
      "cell_type": "markdown",
      "metadata": {
        "id": "view-in-github",
        "colab_type": "text"
      },
      "source": [
        "<a href=\"https://colab.research.google.com/github/Manuela0829/programaci-n-/blob/main/TallerHerencia.ipynb\" target=\"_parent\"><img src=\"https://colab.research.google.com/assets/colab-badge.svg\" alt=\"Open In Colab\"/></a>"
      ]
    },
    {
      "cell_type": "code",
      "metadata": {
        "id": "DGDPyi_TcEkI"
      },
      "source": [
        "Punto 1.\n",
        "clase  Persona ():\n",
        "    def  __init__ ( self , idIn , nombreIn , edadIn ):\n",
        "        yo . edad  =  edadIn\n",
        "        yo . nombre  =  nombreIn\n",
        "        yo . id  =  idIn\n",
        "    def  hablar ( self , mensaje ):\n",
        "        print ( f \"Hola soy { self . nombre } y tengo un mensaje que decir ...\" , mensaje )\n",
        "    def  caminar ( self , pasos ):\n",
        "        para  i  en  rango ( pasos ):\n",
        "            print ( f \"He camino { i  +  1 } pasos\" )\n",
        "Juan  =  Persona ( 12312 , \"Juan\" , 32 )\n",
        "Juan . hablar ( \"Buenas señores\" )\n",
        "Juan . caminar ( 10 )\n",
        "imprimir ( \"#\" * 20 )\n",
        "Punto 2.\n",
        "clase  Doctor ( Persona ):\n",
        "    def  __init__ ( self , idIn , nombreIn , edadIn , especialidadIn ):\n",
        "        Persona . __init__ ( self , idIn , nombreIn , edadIn )\n",
        "        yo . especialidad  =  especialidadIn\n",
        "    def  tratar ( self , enfermedadIn ):\n",
        "        print ( f '' 'Hola soy el doctor { self . nombre } , me especializo\n",
        "        en { self . especialidad } y voy a tratar la enfermedad { enfermedadIn } '' ' )\n",
        "Ricardo  =  Doctor ( 1212124 , \"Ricardo\" , 28 , \"cardiología\" )\n",
        "Ricardo . tratar ( \"arritmia\" )\n",
        "imprimir ( \"#\" * 20 )\n",
        "Punto 3.\n",
        "clase  Nutricionista ( Persona ):\n",
        "    def  __init__ ( self , idIn , nombreIn , edadIn , universidadIn ):\n",
        "        Persona . __init__ ( self , idIn , nombreIn , edadIn )\n",
        "        yo . universidad  =  universidadIn\n",
        "    def  calcularIMC ( self , pesoIn , alturaIn ):\n",
        "        imc  =  pesoIn / ( alturaIn ** 2 )\n",
        "        informacion  =  f \"El imc calculado es de { imc } \"\n",
        "        devolver  informacion\n",
        "Juana  =  Nutricionista ( 22,234142 millones , \"Juana\" , 22 , \"Universidad CES\" )\n",
        "calculadoraDeIMC  =  Juana . calcularIMC ( 75 , 1,83 )\n",
        "imprimir ( calculadoraDeIMC )\n",
        "imprimir ( \"#\" * 20 )\n",
        "Punto 4.\n",
        "clase  Abogado ( Persona ):\n",
        "    def  __init__ ( self , idIn , nombreIn , edadIn , especialidadIn , universidadIn ):\n",
        "        Persona . __init__ ( self , idIn , nombreIn , edadIn )\n",
        "        yo . especialidad  =  especialidadIn\n",
        "        yo . universidad  =  universidadIn\n",
        "    def  representar ( self , representado , caso ):\n",
        "        print ( f '' 'proceder a representar al cliente\n",
        "{ representado } en el caso de { caso } '' ')\n",
        "Ana  =  Abogado ( 23213 , \"Ana\" , 23 , \"Derecho laboral\" , \"Universidad CES\" )\n",
        "Ana . representar ( \"Pedro\" , \"demanda empresarial\" )"
      ],
      "execution_count": null,
      "outputs": []
    }
  ]
}