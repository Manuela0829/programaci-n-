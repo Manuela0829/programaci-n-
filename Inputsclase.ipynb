{
  "nbformat": 4,
  "nbformat_minor": 0,
  "metadata": {
    "colab": {
      "name": "Inputsclase.ipynb",
      "provenance": [],
      "authorship_tag": "ABX9TyPG7YDAC4wz7fQJcrFL8y9/",
      "include_colab_link": true
    },
    "kernelspec": {
      "name": "python3",
      "display_name": "Python 3"
    }
  },
  "cells": [
    {
      "cell_type": "markdown",
      "metadata": {
        "id": "view-in-github",
        "colab_type": "text"
      },
      "source": [
        "<a href=\"https://colab.research.google.com/github/Manuela0829/programaci-n-/blob/main/Inputsclase.ipynb\" target=\"_parent\"><img src=\"https://colab.research.google.com/assets/colab-badge.svg\" alt=\"Open In Colab\"/></a>"
      ]
    },
    {
      "cell_type": "code",
      "metadata": {
        "id": "Id6JGZNns-QP"
      },
      "source": [
        "#----Constantes----#\r\n",
        "PREGUNTA_NOMBRE = \"Como te llamas?: \"\r\n",
        "MENSAJE_SALUDO = \"Un gusto conocerte\"\r\n",
        "PREGUNTA_EDAD = \"Cuantos años tiene?: \"\r\n",
        "PREGUNTA_ESTATURA = \"Cuanto mides?: \""
      ],
      "execution_count": 2,
      "outputs": []
    },
    {
      "cell_type": "code",
      "metadata": {
        "id": "vJFo_eVRx6Sf"
      },
      "source": [
        "#----Entra al codigo----#\r\n",
        "nombre = input (PREGUNTA_NOMBRE)\r\n",
        "edad = int (input (PREGUNTA_EDAD))\r\n",
        "print (MENSAJE_SALUDO, nombre)\r\n",
        "estatura = float (input (PREGUNTA_ESTATURA))"
      ],
      "execution_count": null,
      "outputs": []
    }
  ]
}