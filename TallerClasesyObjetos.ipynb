{
  "nbformat": 4,
  "nbformat_minor": 0,
  "metadata": {
    "colab": {
      "name": "TallerClasesyObjetos.ipynb",
      "provenance": [],
      "authorship_tag": "ABX9TyNDrptNiUraK8XOq2hWkhgc",
      "include_colab_link": true
    },
    "kernelspec": {
      "name": "python3",
      "display_name": "Python 3"
    },
    "language_info": {
      "name": "python"
    }
  },
  "cells": [
    {
      "cell_type": "markdown",
      "metadata": {
        "id": "view-in-github",
        "colab_type": "text"
      },
      "source": [
        "<a href=\"https://colab.research.google.com/github/Manuela0829/programaci-n-/blob/main/TallerClasesyObjetos.ipynb\" target=\"_parent\"><img src=\"https://colab.research.google.com/assets/colab-badge.svg\" alt=\"Open In Colab\"/></a>"
      ]
    },
    {
      "cell_type": "code",
      "metadata": {
        "id": "yD0ox00kTTAl"
      },
      "source": [
        "Punto 1.\n",
        "clase  Torta ():\n",
        "    def  __init__ ( self , formaIn , saborIn , alturaIn ):\n",
        "        yo . forma  =  formaIn\n",
        "        yo . sabor  =  saborIn\n",
        "        yo . altura  =  alturaIn\n",
        "    def  mostrarAtributos ( self ):\n",
        "        print ( f '' 'La torta es de sabor { self . sabor }\n",
        "        su forma es { self . forma }\n",
        "        y mide { self . altura } cms de alto '' ' )\n",
        "tortaMora  =  Torta ( \"Redonda\" , \"Mora\" , 20 )\n",
        "tortaMora . mostrarAtributos ()\n",
        "imprimir ( \"#\" * 20 )\n",
        "Punto 2.\n",
        "clase  Estudiante ():\n",
        "    def  __init__ ( self , edadIn , nombreIn , idIn , carreraIn , semestreIn ):\n",
        "        yo . edad  =  edadIn\n",
        "        yo . nombre  =  nombreIn\n",
        "        yo . id  =  idIn\n",
        "        yo . carrera  =  carreraIn\n",
        "        yo . semestre  =  semestreIn\n",
        "    def  estudiarMateria ( self , materiaIn , horasEstudio ):\n",
        "        print ( f '' 'el alumno estudiará la asignatura\n",
        "        { materiaIn } durante { horasEstudio } hrs '' ')\n",
        "Manuela  =  Estudiante ( 19 , \"Manuela\" , 10070950 , \"Ing biomédica\" , 4 )\n",
        "Manuela . estudiarMateria ( \"Morfofisiología\" , 4 )\n",
        "Punto 3.\n",
        "imprimir ( \"#\" * 20 )\n",
        "clase  Nutricionista ():\n",
        "    def  __init__ ( self , edadIn , nombreIn , universidadIn ):\n",
        "        yo . edad  =  edadIn\n",
        "        yo . nombre  =  nombreIn\n",
        "        yo . universidad  =  universidadIn\n",
        "    def  calcularIMC ( self , pesoIn , alturaIn ):\n",
        "        imc  =  pesoIn / ( alturaIn ** 2 )\n",
        "        informacion  =  f \"El imc calculado es de { imc } \"\n",
        "        devolver  informacion\n",
        "Juana  =  Nutricionista ( 22 , \"Juana\" , \"Universidad CES\" )\n",
        "calculadoraDeIMC  =  Juana . calcularIMC ( 75 , 1,83 )\n",
        "imprimir ( calculadoraDeIMC )\n",
        "Punto 4.\n",
        "imprimir ( \"#\" * 20 )\n",
        "clase  Canguro ():\n",
        "    def  __init__ ( self , edadIn , idIn , nombreIn ):\n",
        "        yo . edad  =  edadIn\n",
        "        yo . nombre  =  nombreIn\n",
        "        yo . id  =  idIn\n",
        "    def  saltar ( self , cantidadDeSaltos ):\n",
        "        para  i  en  rango ( cantidadDeSaltos ):\n",
        "            print ( f \"El canguro a dado { i  + 1 } salto\" )\n",
        "Pico  =  Canguro ( 8 , 312412 , \"Pico\" )\n",
        "Spike . saltar ( 5 )\n",
        "Punto 5.\n",
        "imprimir ( \"#\" * 20 )\n",
        "clase  Guitarra ():\n",
        "    def  __init__ ( self , tipoIn , marcaIn , colorIn ):\n",
        "        yo . tipo  =  tipoIn\n",
        "        yo . marca  =  marcaIn\n",
        "        yo . color  =  colorIn\n",
        "    def  tocarGuitarra ( self , cancion ):\n",
        "        print ( f \"Están tocando la canción { cancion } en la guitarra\" )\n",
        "azula  =  Guitarra ( \"Eléctrica\" , \"Yamaha\" , \"Miel\" )\n",
        "azula . tocarGuitarra ( \"Los pollitos\" )\n"
      ],
      "execution_count": null,
      "outputs": []
    }
  ]
}