{
  "nbformat": 4,
  "nbformat_minor": 0,
  "metadata": {
    "colab": {
      "name": "Quiz-Condicionales.ipynb",
      "provenance": [],
      "authorship_tag": "ABX9TyMaEHpbQHBcHHy5y9Dig4Z0",
      "include_colab_link": true
    },
    "kernelspec": {
      "name": "python3",
      "display_name": "Python 3"
    }
  },
  "cells": [
    {
      "cell_type": "markdown",
      "metadata": {
        "id": "view-in-github",
        "colab_type": "text"
      },
      "source": [
        "<a href=\"https://colab.research.google.com/github/Manuela0829/programaci-n-/blob/main/Quiz_Condicionales.ipynb\" target=\"_parent\"><img src=\"https://colab.research.google.com/assets/colab-badge.svg\" alt=\"Open In Colab\"/></a>"
      ]
    },
    {
      "cell_type": "code",
      "metadata": {
        "id": "Hng4i5ztsX2N"
      },
      "source": [
        "#----Constantes----\r\n",
        "TRIGLICERIDOS = \"Ingrese su nivel de trigliceridos\"\r\n",
        "HOMOCISTEINA = \"Ingrese su nivel de honocisteina\"\r\n",
        "\r\n",
        "trigliceridos = float (input (TRIGLICERIDOS))\r\n",
        "homocisteina = float (input (HOMOCISTEINA))\r\n",
        "\r\n",
        "if (homocisteina >=2 and homocisteina <15):\r\n",
        "  print(\"El nivel de su homocisteina es optimo\")\r\n",
        "elif (homocisteina >=15 and homocisteina <30):\r\n",
        "  print(\"El nivel de su homocisteina es sobre el limite optimo\") \r\n",
        "elif (homocisteina >=30 and homocisteina <100):\r\n",
        "  print(\"El nivel de su homocisteina es alto\")\r\n",
        "else:\r\n",
        "  print(\"El nivel de su homocisteina es muy alto\")\r\n",
        "\r\n",
        "if (trigliceridos <150):\r\n",
        "  print(\"El nivel de su trigliceridos es optimo\")\r\n",
        "elif (trigliceridos>=150 and trigliceridos <199):\r\n",
        "  print(\"El nivel de su trigliceridos es sobre el limite optimo\")\r\n",
        "elif ( trigliceridos>=200 and trigliceridos<499):\r\n",
        "  print(\"El nivel de su trigliceridos es alto\")\r\n",
        "else:\r\n",
        "  print(\"El nivel de su trigliceridos es muy alto\")"
      ],
      "execution_count": null,
      "outputs": []
    }
  ]
}