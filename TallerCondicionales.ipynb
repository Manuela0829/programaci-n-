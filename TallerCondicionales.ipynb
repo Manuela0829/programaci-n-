{
  "nbformat": 4,
  "nbformat_minor": 0,
  "metadata": {
    "colab": {
      "name": "TallerCondicionales.ipynb",
      "provenance": [],
      "authorship_tag": "ABX9TyPmUu0xaH5644Zr/LwQQBxy",
      "include_colab_link": true
    },
    "kernelspec": {
      "name": "python3",
      "display_name": "Python 3"
    }
  },
  "cells": [
    {
      "cell_type": "markdown",
      "metadata": {
        "id": "view-in-github",
        "colab_type": "text"
      },
      "source": [
        "<a href=\"https://colab.research.google.com/github/Manuela0829/programaci-n-/blob/main/TallerCondicionales.ipynb\" target=\"_parent\"><img src=\"https://colab.research.google.com/assets/colab-badge.svg\" alt=\"Open In Colab\"/></a>"
      ]
    },
    {
      "cell_type": "code",
      "metadata": {
        "id": "0ElLUaaikjE7"
      },
      "source": [
        "#----Constantes----#\r\n",
        "INGRESE_NUMERO_A = \"Ingresar numero A: \"\r\n",
        "INGRESE_NUMERO_B = \"Ingresar numero B: \"\r\n",
        "MENSAJE_MAYOR = \"El numero A es mayor que el numero B\""
      ],
      "execution_count": null,
      "outputs": []
    },
    {
      "cell_type": "code",
      "metadata": {
        "colab": {
          "base_uri": "https://localhost:8080/",
          "height": 231
        },
        "id": "wDrpLykPl9V9",
        "outputId": "9f00b7e5-0435-409d-e43d-2b4a9ea5287e"
      },
      "source": [
        "#----Entrada al codigo----#\r\n",
        "numeroA = int (input(INGRESE_NUMERO_A))\r\n",
        "numeroB = int (input(INGRESE_NUMERO_B))\r\n",
        "isMayor = numeroA > numeroB\r\n",
        "isIgual = numeroA == INGRESE_NUMERO_B\r\n",
        "resultado =\"\"\r\n",
        "if (isMayor):\r\n",
        "    resultado = MENSAJE_MAYOR\r\n",
        "elif (isIgual):\r\n",
        "    resultado = MENSAJE_IGUAL\r\n",
        "else:\r\n",
        "    resultado = MENSAJE_MENOR\r\n",
        "\r\n",
        "print (resultado)"
      ],
      "execution_count": 5,
      "outputs": [
        {
          "output_type": "error",
          "ename": "NameError",
          "evalue": "ignored",
          "traceback": [
            "\u001b[0;31m---------------------------------------------------------------------------\u001b[0m",
            "\u001b[0;31mNameError\u001b[0m                                 Traceback (most recent call last)",
            "\u001b[0;32m<ipython-input-5-b04eac1338ec>\u001b[0m in \u001b[0;36m<module>\u001b[0;34m()\u001b[0m\n\u001b[1;32m      1\u001b[0m \u001b[0;31m#----Entrada al codigo----#\u001b[0m\u001b[0;34m\u001b[0m\u001b[0;34m\u001b[0m\u001b[0;34m\u001b[0m\u001b[0m\n\u001b[0;32m----> 2\u001b[0;31m \u001b[0mnumeroA\u001b[0m \u001b[0;34m=\u001b[0m \u001b[0mint\u001b[0m \u001b[0;34m(\u001b[0m\u001b[0minput\u001b[0m\u001b[0;34m(\u001b[0m\u001b[0mINGRESE_NUMERO_A\u001b[0m\u001b[0;34m)\u001b[0m\u001b[0;34m)\u001b[0m\u001b[0;34m\u001b[0m\u001b[0;34m\u001b[0m\u001b[0m\n\u001b[0m\u001b[1;32m      3\u001b[0m \u001b[0mnumeroB\u001b[0m \u001b[0;34m=\u001b[0m \u001b[0mint\u001b[0m \u001b[0;34m(\u001b[0m\u001b[0minput\u001b[0m\u001b[0;34m(\u001b[0m\u001b[0mINGRESE_NUMERO_B\u001b[0m\u001b[0;34m)\u001b[0m\u001b[0;34m)\u001b[0m\u001b[0;34m\u001b[0m\u001b[0;34m\u001b[0m\u001b[0m\n\u001b[1;32m      4\u001b[0m \u001b[0misMayor\u001b[0m \u001b[0;34m=\u001b[0m \u001b[0mnumeroA\u001b[0m \u001b[0;34m>\u001b[0m \u001b[0mnumeroB\u001b[0m\u001b[0;34m\u001b[0m\u001b[0;34m\u001b[0m\u001b[0m\n\u001b[1;32m      5\u001b[0m \u001b[0misIgual\u001b[0m \u001b[0;34m=\u001b[0m \u001b[0mnumeroA\u001b[0m \u001b[0;34m==\u001b[0m \u001b[0mINGRESE_NUMERO_B\u001b[0m\u001b[0;34m\u001b[0m\u001b[0;34m\u001b[0m\u001b[0m\n",
            "\u001b[0;31mNameError\u001b[0m: name 'INGRESE_NUMERO_A' is not defined"
          ]
        }
      ]
    },
    {
      "cell_type": "code",
      "metadata": {
        "id": "wowfCc7DVx0l"
      },
      "source": [
        "#----Constantes----#\r\n",
        "INGRESE_EDAD = \"Ingresar edad: \"\r\n",
        "MENSAJE_MENOR_EDAD = \"Tienes menos de 18 años eres menor de edad\"\r\n",
        "MENSAJE_JOVEN = \"Eres joven\"\r\n",
        "MENSAJE_ADULTO_MAYOR = \"Eres un adulto mayor\"\r\n"
      ],
      "execution_count": null,
      "outputs": []
    },
    {
      "cell_type": "code",
      "metadata": {
        "colab": {
          "base_uri": "https://localhost:8080/",
          "height": 231
        },
        "id": "We6pfkVFXwat",
        "outputId": "8f5f2214-e34d-4118-a6a1-3d1b3a14f74f"
      },
      "source": [
        "#----Entrada al codigo----#\r\n",
        "edad = int (input(INGRESAR_EDAD))\r\n",
        "isMenor = edad < 18\r\n",
        "isJoven = edad > 18 and edad < 25\r\n",
        "IsAdultoMayor = edad > 60\r\n",
        "resultado = \"\"\r\n",
        "if (isMenor):\r\n",
        "    resultado = MENSAJE_MENOR_EDAD\r\n",
        "elif (isJoven):\r\n",
        "    resultado = MENSAJE_ADULTO_MAYOR\r\n",
        "\r\n",
        "print (resultado)\r\n",
        "\r\n",
        "\r\n",
        "\r\n",
        "\r\n"
      ],
      "execution_count": 8,
      "outputs": [
        {
          "output_type": "error",
          "ename": "NameError",
          "evalue": "ignored",
          "traceback": [
            "\u001b[0;31m---------------------------------------------------------------------------\u001b[0m",
            "\u001b[0;31mNameError\u001b[0m                                 Traceback (most recent call last)",
            "\u001b[0;32m<ipython-input-8-b1c7e8e1a9b3>\u001b[0m in \u001b[0;36m<module>\u001b[0;34m()\u001b[0m\n\u001b[1;32m      1\u001b[0m \u001b[0;31m#----Entrada al codigo----#\u001b[0m\u001b[0;34m\u001b[0m\u001b[0;34m\u001b[0m\u001b[0;34m\u001b[0m\u001b[0m\n\u001b[0;32m----> 2\u001b[0;31m \u001b[0medad\u001b[0m \u001b[0;34m=\u001b[0m \u001b[0mint\u001b[0m \u001b[0;34m(\u001b[0m\u001b[0minput\u001b[0m\u001b[0;34m(\u001b[0m\u001b[0mINGRESAR_EDAD\u001b[0m\u001b[0;34m)\u001b[0m\u001b[0;34m)\u001b[0m\u001b[0;34m\u001b[0m\u001b[0;34m\u001b[0m\u001b[0m\n\u001b[0m\u001b[1;32m      3\u001b[0m \u001b[0misMenor\u001b[0m \u001b[0;34m=\u001b[0m \u001b[0medad\u001b[0m \u001b[0;34m<\u001b[0m \u001b[0;36m18\u001b[0m\u001b[0;34m\u001b[0m\u001b[0;34m\u001b[0m\u001b[0m\n\u001b[1;32m      4\u001b[0m \u001b[0misJoven\u001b[0m \u001b[0;34m=\u001b[0m \u001b[0medad\u001b[0m \u001b[0;34m>\u001b[0m \u001b[0;36m18\u001b[0m \u001b[0;32mand\u001b[0m \u001b[0medad\u001b[0m \u001b[0;34m<\u001b[0m \u001b[0;36m25\u001b[0m\u001b[0;34m\u001b[0m\u001b[0;34m\u001b[0m\u001b[0m\n\u001b[1;32m      5\u001b[0m \u001b[0mIsAdultoMayor\u001b[0m \u001b[0;34m=\u001b[0m \u001b[0medad\u001b[0m \u001b[0;34m>\u001b[0m \u001b[0;36m60\u001b[0m\u001b[0;34m\u001b[0m\u001b[0;34m\u001b[0m\u001b[0m\n",
            "\u001b[0;31mNameError\u001b[0m: name 'INGRESAR_EDAD' is not defined"
          ]
        }
      ]
    },
    {
      "cell_type": "code",
      "metadata": {
        "id": "rfPj3IovlyPB"
      },
      "source": [
        "#----Constantes----#\r\n",
        "INGRESE_DISTANCIA_CENTIMEYTOS = \"Ingrese la distancia en centimetros: \"\r\n",
        "INGRESE_UNIDAD_DESEADA = \"Ingrese la unidad que desea : K- Kilometros, M- Metros :\"\r\n",
        "MENSAJE_ERROR = \"Unidad incorrecta\""
      ],
      "execution_count": null,
      "outputs": []
    },
    {
      "cell_type": "code",
      "metadata": {
        "id": "q8wEiW3Gm9md"
      },
      "source": [
        "#----Conversiones----#\r\n",
        "metros = medida *10**-2\r\n",
        "kilometros = medida*10**-5\r\n",
        "\r\n",
        "resultado = \"\""
      ],
      "execution_count": null,
      "outputs": []
    },
    {
      "cell_type": "code",
      "metadata": {
        "id": "74Hot1cXnmdd"
      },
      "source": [
        "#----Condicionales----#\r\n",
        "if (unidad == \"K\"):\r\n",
        "     resultado = kilometros\r\n",
        "elif (unidad == \"M\"):\r\n",
        "    resultado = metros\r\n",
        "else:\r\n",
        "    resultado = MENSAJE_ERROR\r\n",
        "\r\n",
        "    print (resultado)"
      ],
      "execution_count": null,
      "outputs": []
    }
  ]
}