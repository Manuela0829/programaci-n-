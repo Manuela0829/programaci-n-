{
  "nbformat": 4,
  "nbformat_minor": 0,
  "metadata": {
    "colab": {
      "name": " quiz2.ipynb",
      "provenance": [],
      "collapsed_sections": [],
      "include_colab_link": true
    },
    "kernelspec": {
      "name": "python3",
      "display_name": "Python 3"
    },
    "language_info": {
      "name": "python"
    }
  },
  "cells": [
    {
      "cell_type": "markdown",
      "metadata": {
        "id": "view-in-github",
        "colab_type": "text"
      },
      "source": [
        "<a href=\"https://colab.research.google.com/github/Manuela0829/programaci-n-/blob/main/quiz2.ipynb\" target=\"_parent\"><img src=\"https://colab.research.google.com/assets/colab-badge.svg\" alt=\"Open In Colab\"/></a>"
      ]
    },
    {
      "cell_type": "code",
      "metadata": {
        "colab": {
          "base_uri": "https://localhost:8080/"
        },
        "id": "FGCxNIZoeVqo",
        "outputId": "5582981d-aa66-4915-bd85-4bf4a3fe95f0"
      },
      "source": [
        "Temperatura_Corporal = [36,37,38,35,36,38,37.5,38.2,41,37.4,38.6,39.1,40.3,33]\n",
        "\n",
        "while True:\n",
        "    print()\n",
        "    print('Menu:')\n",
        "    print('1. Convertir las temperaturas')\n",
        "    print('2. Estado para cada una de las temperaturas')\n",
        "    print('3. Información general')\n",
        "    print('4. Salir del programa')\n",
        "\n",
        "    print()\n",
        "    opcion = input('Dígite su opción: ')\n",
        "    if opcion == '1' or opcion == '2' or opcion == '3' or opcion == '4':\n",
        "        if opcion == '1':\n",
        "            print('Dígite [K] para convertir a grados Kelvin')\n",
        "            print('O [F] para convertir a grados Farenheit')\n",
        "            conv = input('Convertir a: ')\n",
        "            n = len(Temperatura_Corporal)\n",
        "            if conv == 'K':\n",
        "                for i in range(n):\n",
        "                    nueva_temperatura = Temperatura_Corporal[i] + 273.15\n",
        "                    print(Temperatura_Corporal[i],'C° -> K°', nueva_temperatura)\n",
        "            elif conv == 'F':\n",
        "                for i in range(n):\n",
        "                    nueva_temperatura = Temperatura_Corporal[i] * 1.8\n",
        "                    nueva_temperatura = Temperatura_Corporal[i] + 32\n",
        "                    print(Temperatura_Corporal[i],'C° -> F°', nueva_temperatura)\n",
        "            elif conv == 'C':\n",
        "                print('La conversión no es necesaria.')\n",
        "            else:\n",
        "                print('Opción errónea.')\n",
        "        if opcion == '2':\n",
        "            for temperatura in Temperatura_Corporal:\n",
        "                if temperatura < 36:\n",
        "                    print(temperatura, '-> Hipotermia')\n",
        "                elif temperatura > 37.6:\n",
        "                    print(temperatura, '-> Fiebre')\n",
        "                else:\n",
        "                    print(temperatura, '-> Temperatura normal')\n",
        "        if opcion == '3':\n",
        "            print('Temperatura máxima: ', max(Temperatura_Corporal))\n",
        "            print('Temperatura mínima:', min(Temperatura_Corporal))\n",
        "            print('Los datos fueron tomados cada',\n",
        "                  len(Temperatura_Corporal) / 24, 'horas')\n",
        "        if opcion == '4':\n",
        "            print('Hasta luego!')\n",
        "            break\n",
        "    else:\n",
        "        print('Opción no válida, intente de nuevo.')"
      ],
      "execution_count": null,
      "outputs": [
        {
          "output_type": "stream",
          "text": [
            "Menu:\n",
            "1. Convertir las temperaturas\n",
            "2. Estado para cada una de las temperaturas\n",
            "3. Información general\n",
            "4. Salir del programa\n",
            "\n",
            "Dígite su opción: 3\n",
            "Temperatura máxima:  41\n",
            "Temperatura mínima: 33\n",
            "Los datos fueron tomados cada 0.5833333333333334 horas\n",
            "Menu:\n",
            "1. Convertir las temperaturas\n",
            "2. Estado para cada una de las temperaturas\n",
            "3. Información general\n",
            "4. Salir del programa\n",
            "\n",
            "Dígite su opción: 4\n",
            "Hasta luego!\n"
          ],
          "name": "stdout"
        }
      ]
    }
  ]
}