{
  "nbformat": 4,
  "nbformat_minor": 0,
  "metadata": {
    "colab": {
      "name": "sesion2021-01.ipynb",
      "provenance": [],
      "authorship_tag": "ABX9TyP2xgERSbwbxfcK12RahGXh",
      "include_colab_link": true
    },
    "kernelspec": {
      "name": "python3",
      "display_name": "Python 3"
    }
  },
  "cells": [
    {
      "cell_type": "markdown",
      "metadata": {
        "id": "view-in-github",
        "colab_type": "text"
      },
      "source": [
        "<a href=\"https://colab.research.google.com/github/Manuela0829/programaci-n-/blob/main/sesion2021_01.ipynb\" target=\"_parent\"><img src=\"https://colab.research.google.com/assets/colab-badge.svg\" alt=\"Open In Colab\"/></a>"
      ]
    },
    {
      "cell_type": "markdown",
      "metadata": {
        "id": "jeV1K9gz_y8O"
      },
      "source": [
        "# Explicando manejar colab"
      ]
    },
    {
      "cell_type": "code",
      "metadata": {
        "id": "R2uIwmXv_7bh"
      },
      "source": [
        "print (\"Hola mundo\")"
      ],
      "execution_count": null,
      "outputs": []
    },
    {
      "cell_type": "markdown",
      "metadata": {
        "id": "zTx2n_4WAurW"
      },
      "source": [
        "## Mostrando tipos de variables "
      ]
    },
    {
      "cell_type": "code",
      "metadata": {
        "colab": {
          "base_uri": "https://localhost:8080/"
        },
        "id": "KZqgEg3YB3ZA",
        "outputId": "3103000f-972c-41f8-f269-b0910c66b5d2"
      },
      "source": [
        "NOMBRE = \"Manuela Mizger Camacho\"\r\n",
        "edad = 19\r\n",
        "estatura = 1.60\r\n",
        "print (NOMBRE, edad, estatura)"
      ],
      "execution_count": 3,
      "outputs": [
        {
          "output_type": "stream",
          "text": [
            "Manuela Mizger Camacho 19 1.6\n"
          ],
          "name": "stdout"
        }
      ]
    }
  ]
}