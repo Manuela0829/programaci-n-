{
  "nbformat": 4,
  "nbformat_minor": 0,
  "metadata": {
    "colab": {
      "name": "sesion2021-01.ipynb",
      "provenance": [],
      "authorship_tag": "ABX9TyO80PuLlzZI2OsRQDIr/t6B",
      "include_colab_link": true
    },
    "kernelspec": {
      "name": "python3",
      "display_name": "Python 3"
    }
  },
  "cells": [
    {
      "cell_type": "markdown",
      "metadata": {
        "id": "view-in-github",
        "colab_type": "text"
      },
      "source": [
        "<a href=\"https://colab.research.google.com/github/Manuela0829/programaci-n-/blob/main/sesion2021_01.ipynb\" target=\"_parent\"><img src=\"https://colab.research.google.com/assets/colab-badge.svg\" alt=\"Open In Colab\"/></a>"
      ]
    },
    {
      "cell_type": "code",
      "metadata": {
        "id": "hqg4KNRNkJ2k"
      },
      "source": [
        "## Estos son booleans que son variables que solo valen #\r\n",
        "# verdadero falso #"
      ],
      "execution_count": 16,
      "outputs": []
    },
    {
      "cell_type": "code",
      "metadata": {
        "colab": {
          "base_uri": "https://localhost:8080/"
        },
        "id": "09hgGfo_Og7R",
        "outputId": "ebd0a537-fd59-4caf-a2bf-69ad9e245e77"
      },
      "source": [
        "pruebaV = True\r\n",
        "pruebaF = False \r\n",
        "print(\"pruebaF\")\r\n",
        "print(\"pruebaV\")"
      ],
      "execution_count": 6,
      "outputs": [
        {
          "output_type": "stream",
          "text": [
            "pruebaF\n",
            "pruebaV\n"
          ],
          "name": "stdout"
        }
      ]
    },
    {
      "cell_type": "code",
      "metadata": {
        "colab": {
          "base_uri": "https://localhost:8080/"
        },
        "id": "DNHl2V87YPWg",
        "outputId": "56254ea5-a2ec-496b-b078-bd3c4a433baf"
      },
      "source": [
        "print(\"pruebaV\")"
      ],
      "execution_count": 17,
      "outputs": [
        {
          "output_type": "stream",
          "text": [
            "pruebaV\n"
          ],
          "name": "stdout"
        }
      ]
    },
    {
      "cell_type": "code",
      "metadata": {
        "colab": {
          "base_uri": "https://localhost:8080/"
        },
        "id": "dU3TwgaJbU7l",
        "outputId": "69077c44-2e69-4974-ccf1-799575d19b18"
      },
      "source": [
        "edad = 19\r\n",
        "estatura = 1,60\r\n",
        "peso = 51\r\n",
        "NOMBRE = \"Manuela Mizger Camacho\"\r\n",
        "print(\"#\"*15, \"Mayor de Edad\", \"#\"*15)"
      ],
      "execution_count": 7,
      "outputs": [
        {
          "output_type": "stream",
          "text": [
            "############### Mayor de Edad ###############\n"
          ],
          "name": "stdout"
        }
      ]
    },
    {
      "cell_type": "code",
      "metadata": {
        "colab": {
          "base_uri": "https://localhost:8080/"
        },
        "id": "ty1XKliOcbl6",
        "outputId": "2862d8a7-08e9-4f73-cf80-1b729fa921f6"
      },
      "source": [
        "isMayorEdad = edad >= 18\r\n",
        "print (isMayorEdad)"
      ],
      "execution_count": 8,
      "outputs": [
        {
          "output_type": "stream",
          "text": [
            "True\n"
          ],
          "name": "stdout"
        }
      ]
    },
    {
      "cell_type": "code",
      "metadata": {
        "colab": {
          "base_uri": "https://localhost:8080/"
        },
        "id": "WGXrpalWdFgL",
        "outputId": "513279bb-f0d4-404f-cadc-21de7dd7a35e"
      },
      "source": [
        "print(\"#\"*15, \"Bajo la Estatura promedio\", \"#\"*15)"
      ],
      "execution_count": 9,
      "outputs": [
        {
          "output_type": "stream",
          "text": [
            "############### Bajo la Estatura promedio ###############\n"
          ],
          "name": "stdout"
        }
      ]
    },
    {
      "cell_type": "code",
      "metadata": {
        "colab": {
          "base_uri": "https://localhost:8080/",
          "height": 180
        },
        "id": "RMcsn3GBdowT",
        "outputId": "ad1d89e1-8167-45eb-cddc-7ce564e65bd0"
      },
      "source": [
        "isMayorEstatura = estatura < 1.70\r\n",
        "print(isMayorEstatura)"
      ],
      "execution_count": 22,
      "outputs": [
        {
          "output_type": "error",
          "ename": "TypeError",
          "evalue": "ignored",
          "traceback": [
            "\u001b[0;31m---------------------------------------------------------------------------\u001b[0m",
            "\u001b[0;31mTypeError\u001b[0m                                 Traceback (most recent call last)",
            "\u001b[0;32m<ipython-input-22-f0ed321d94e3>\u001b[0m in \u001b[0;36m<module>\u001b[0;34m()\u001b[0m\n\u001b[0;32m----> 1\u001b[0;31m \u001b[0misMayorEstatura\u001b[0m \u001b[0;34m=\u001b[0m \u001b[0mestatura\u001b[0m \u001b[0;34m<\u001b[0m \u001b[0;36m1.70\u001b[0m\u001b[0;34m\u001b[0m\u001b[0;34m\u001b[0m\u001b[0m\n\u001b[0m\u001b[1;32m      2\u001b[0m \u001b[0mprint\u001b[0m\u001b[0;34m(\u001b[0m\u001b[0misMayorEstatura\u001b[0m\u001b[0;34m)\u001b[0m\u001b[0;34m\u001b[0m\u001b[0;34m\u001b[0m\u001b[0m\n",
            "\u001b[0;31mTypeError\u001b[0m: '<' not supported between instances of 'tuple' and 'float'"
          ]
        }
      ]
    },
    {
      "cell_type": "code",
      "metadata": {
        "colab": {
          "base_uri": "https://localhost:8080/"
        },
        "id": "dZHditWziOkr",
        "outputId": "7458d9c4-c67f-4463-8190-977d9fcdc712"
      },
      "source": [
        "## calculando si el peso diferente de 51\r\n",
        "isPesoDiferente = peso != 57\r\n",
        "print(\"#\"*15, \"peso diferente 51\", \"#\"*15)\r\n",
        "print(isPesoDiferente)"
      ],
      "execution_count": 14,
      "outputs": [
        {
          "output_type": "stream",
          "text": [
            "############### peso diferente 51 ###############\n",
            "True\n"
          ],
          "name": "stdout"
        }
      ]
    },
    {
      "cell_type": "code",
      "metadata": {
        "colab": {
          "base_uri": "https://localhost:8080/"
        },
        "id": "9sjWhazGjlVa",
        "outputId": "11b8dca2-8477-46ff-8659-bf54ba42103c"
      },
      "source": [
        "## vamos a ver si un apellido esta en el nombre completo\r\n",
        "apellido = \"Mizger\"\r\n",
        "isApellido = apellido in NOMBRE\r\n",
        "print(\"#\"*15, \"Esta apellido en el nombre\", \"#\"*15)\r\n",
        "print(isApellido)"
      ],
      "execution_count": 18,
      "outputs": [
        {
          "output_type": "stream",
          "text": [
            "############### Esta apellido en el nombre ###############\n",
            "True\n"
          ],
          "name": "stdout"
        }
      ]
    }
  ]
}