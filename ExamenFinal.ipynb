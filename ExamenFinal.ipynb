{
  "nbformat": 4,
  "nbformat_minor": 0,
  "metadata": {
    "colab": {
      "name": "ExamenFinal.ipynb",
      "provenance": [],
      "collapsed_sections": [],
      "include_colab_link": true
    },
    "kernelspec": {
      "name": "python3",
      "display_name": "Python 3"
    },
    "language_info": {
      "name": "python"
    }
  },
  "cells": [
    {
      "cell_type": "markdown",
      "metadata": {
        "id": "view-in-github",
        "colab_type": "text"
      },
      "source": [
        "<a href=\"https://colab.research.google.com/github/Manuela0829/programaci-n-/blob/main/ExamenFinal.ipynb\" target=\"_parent\"><img src=\"https://colab.research.google.com/assets/colab-badge.svg\" alt=\"Open In Colab\"/></a>"
      ]
    },
    {
      "cell_type": "code",
      "metadata": {
        "id": "UZxMsJJTnJyj"
      },
      "source": [
        "import matplotlib.pyplot as plt"
      ],
      "execution_count": null,
      "outputs": []
    },
    {
      "cell_type": "markdown",
      "metadata": {
        "id": "WXNPn7U2m-SF"
      },
      "source": [
        "Punto 1\n",
        "\n",
        "Solicite a un usuario que ingrese sus 8 alimentos favoritos y sus precios\n",
        "luego realice un gráfico de barras con la información ingresada (recuerde poner título al\n",
        "gráfico y a sus ejes también recuerde guardar el resultado en un archivo png)"
      ]
    },
    {
      "cell_type": "code",
      "metadata": {
        "colab": {
          "base_uri": "https://localhost:8080/",
          "height": 417
        },
        "id": "EMQEG_s2m6-o",
        "outputId": "e90c9e15-bc27-4eaa-d1e9-d74a97bacb1b"
      },
      "source": [
        "alimentos = []\n",
        "precios = []\n",
        "\n",
        "print('Bienvenido. Digita por favor tus 8 alimentos preferidos y sus precios')\n",
        "\n",
        "for i in range(3):\n",
        "    alimento_i = input(f'Alimento #{i + 1}: ')\n",
        "    precio_i = int(input(f'Precio #{i + 1}: '))\n",
        "\n",
        "    alimentos.append(alimento_i)\n",
        "    precios.append(precio_i)\n",
        "\n",
        "\n",
        "plt.figure()\n",
        "plt.bar(alimentos, precios)\n",
        "plt.title('Precios de alimentos favoritos')\n",
        "plt.xlabel('Alimento')\n",
        "plt.ylabel('Precio')\n",
        "\n",
        "plt.savefig('alimentos_favoritos.png')"
      ],
      "execution_count": null,
      "outputs": [
        {
          "output_type": "stream",
          "text": [
            "Bienvenido. Digita por favor tus 8 alimentos preferidos y sus precios\n",
            "Alimento #1: 1\n",
            "Precio #1: 1\n",
            "Alimento #2: 2\n",
            "Precio #2: 2\n",
            "Alimento #3: 3\n",
            "Precio #3: 3\n"
          ],
          "name": "stdout"
        },
        {
          "output_type": "display_data",
          "data": {
            "image/png": "[encoded data removed]",
            "text/plain": [
              "<Figure size 432x288 with 1 Axes>"
            ]
          },
          "metadata": {
            "tags": [],
            "needs_background": "light"
          }
        }
      ]
    },
    {
      "cell_type": "markdown",
      "metadata": {
        "id": "RY-P9llvo5aj"
      },
      "source": [
        "Punto 2\n",
        "\n",
        "Cree una clase humano con atributos nombre, sexo, edad y con la acción\n",
        "hablar donde dado un mensaje se mostrará en pantalla. Luego cree una clase Doctor que\n",
        "herede de humano y tenga la acción adicional de que dado una estatura y un peso calcule el\n",
        "IMC y lo muestre en pantalla."
      ]
    },
    {
      "cell_type": "code",
      "metadata": {
        "colab": {
          "base_uri": "https://localhost:8080/"
        },
        "id": "X-Lsr0qmo61i",
        "outputId": "49ebb5a2-b51a-4be6-e7c7-09aa60914158"
      },
      "source": [
        "class Humano(object):\n",
        "\n",
        "    def __init__(self, nombre, sexo, edad):\n",
        "        self.nombre = nombre\n",
        "        self.sexo = sexo\n",
        "        self.edad = edad\n",
        "    \n",
        "    def hablar(self, mensaje):\n",
        "        print(mensaje)\n",
        "\n",
        "\n",
        "class Doctor(Humano):\n",
        "\n",
        "    def __init__(self, nombre, sexo, edad):\n",
        "        Humano.__init__(self, nombre, sexo, edad)\n",
        "\n",
        "    def imc(self, estatura, peso):\n",
        "        imc = peso / estatura ** 2\n",
        "        print(f'IMC: {imc}')\n",
        "\n",
        "\n",
        "doctor = Doctor('Alberto', 'M', 35)\n",
        "doctor.imc(1.70, 52)"
      ],
      "execution_count": null,
      "outputs": [
        {
          "output_type": "stream",
          "text": [
            "IMC: 17.99307958477509\n",
            "Alberto\n"
          ],
          "name": "stdout"
        }
      ]
    },
    {
      "cell_type": "markdown",
      "metadata": {
        "id": "hICEATo_rujQ"
      },
      "source": [
        "Punto 3\n",
        "\n",
        "Se sabe que un Dólar son 0.82 euros, indique a un usuario que ingrese su\n",
        "dinero en dólares y su nombre, luego muestre en pantalla el nombre del usuario y cuanto\n",
        "dinero tiene en dólares (recuerde validar que todos los datos ingresados por el usuario sean\n",
        "del formato correcto)."
      ]
    },
    {
      "cell_type": "code",
      "metadata": {
        "id": "KgruHNd7rlvC"
      },
      "source": [
        "dinero = 0\n",
        "while True:\n",
        "    dinero = input('Digite su dinero en dólares: ')\n",
        "    if dinero.isnumeric():\n",
        "        dinero = float(dinero)\n",
        "        break\n",
        "    print('El valor ingresado no es válido, intente nuevamente.')\n",
        "nombre = input('Digite su nombre: ')\n",
        "\n",
        "print(f'Nombre: {nombre}')\n",
        "print(f'Dinero en euros: {dinero * 0.82}')"
      ],
      "execution_count": null,
      "outputs": []
    },
    {
      "cell_type": "markdown",
      "metadata": {
        "id": "YDvr6Qmys2rg"
      },
      "source": [
        "Punto 4\n",
        "\n",
        "Un consultorio de neurología desea tener un archivo para el manejo de\n",
        "los clientes, se pide que desarrolle un programa que en su primera ejecución cree el archivo\n",
        "llamado pacientes.txt. Luego en cada ejecución se preguntará por el nombre del paciente, una\n",
        "descripción de la enfermedad y el precio de la consulta (se deben almacenar estos datos\n",
        "nuevos en el archivo pacientes.txt)."
      ]
    },
    {
      "cell_type": "code",
      "metadata": {
        "id": "2SL0LbUXs5Kj"
      },
      "source": [
        "archivo = open('pacientes.txt', 'a')\n",
        "\n",
        "nombre = input('Nombre del paciente: ')\n",
        "descripcion = input('Descripción de la enfermedad: ')\n",
        "precio = input('Precio de la consulta: ')\n",
        "\n",
        "archivo.write(f'{nombre},{descripcion},{precio}\\n')\n",
        "archivo.close()"
      ],
      "execution_count": null,
      "outputs": []
    }
  ]
}