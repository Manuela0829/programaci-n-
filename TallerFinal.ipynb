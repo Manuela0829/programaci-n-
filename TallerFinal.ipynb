{
  "nbformat": 4,
  "nbformat_minor": 0,
  "metadata": {
    "colab": {
      "name": "TallerFinal.ipynb",
      "provenance": [],
      "collapsed_sections": [],
      "include_colab_link": true
    },
    "kernelspec": {
      "name": "python3",
      "display_name": "Python 3"
    },
    "language_info": {
      "name": "python"
    }
  },
  "cells": [
    {
      "cell_type": "markdown",
      "metadata": {
        "id": "view-in-github",
        "colab_type": "text"
      },
      "source": [
        "<a href=\"https://colab.research.google.com/github/Manuela0829/programaci-n-/blob/main/TallerFinal.ipynb\" target=\"_parent\"><img src=\"https://colab.research.google.com/assets/colab-badge.svg\" alt=\"Open In Colab\"/></a>"
      ]
    },
    {
      "cell_type": "markdown",
      "metadata": {
        "id": "f26iIdrPaVwO"
      },
      "source": [
        "Punto1. Calcular el IMC de un usuario, pero valide que los datos de entrada sean los correctos en caso de que alguna entrada sea errónea vuelva a solicitar el ingreso del dato hasta que sea correcto (adicionalmente pida el nombre y valide que sea un nombre válido).\n",
        "\n"
      ]
    },
    {
      "cell_type": "code",
      "metadata": {
        "id": "2SPxaXL1aUb7"
      },
      "source": [
        "def validateFloat(pregunta):\n",
        "  isCorrectData = False\n",
        "  while (isCorrectData == False):\n",
        "    try:\n",
        "      valor = float (input(pregunta))\n",
        "      isCorrectData = True\n",
        "    except ValueError:\n",
        "      print('datos incorrectos ingrese nuevamente')\n",
        "  return valor "
      ],
      "execution_count": null,
      "outputs": []
    },
    {
      "cell_type": "code",
      "metadata": {
        "id": "6RK9WRiqdIJz"
      },
      "source": [
        "def validateString(pregunta):\n",
        "  isCorrectData = False\n",
        "  while (isCorrectData == False):\n",
        "    try:\n",
        "      valor = input(pregunta)\n",
        "      assert(valor.isalpha())\n",
        "      isCorrectData = True\n",
        "    except AssertionError:\n",
        "      print('datos incorrectos ingrese nuevamente')\n",
        "  return valor "
      ],
      "execution_count": null,
      "outputs": []
    },
    {
      "cell_type": "code",
      "metadata": {
        "colab": {
          "base_uri": "https://localhost:8080/",
          "height": 155
        },
        "id": "aEaKnCq4dd76",
        "outputId": "fdd1b9f6-e849-48cf-d8f7-d6a898adfff1"
      },
      "source": [
        "validateString ('nombre :')"
      ],
      "execution_count": null,
      "outputs": [
        {
          "output_type": "stream",
          "text": [
            "nombre :ds21\n",
            "datos incorrectos ingrese nuevamente\n",
            "nombre :2\n",
            "datos incorrectos ingrese nuevamente\n",
            "nombre :Daniel}\n",
            "datos incorrectos ingrese nuevamente\n",
            "nombre :daniel\n"
          ],
          "name": "stdout"
        },
        {
          "output_type": "execute_result",
          "data": {
            "application/vnd.google.colaboratory.intrinsic+json": {
              "type": "string"
            },
            "text/plain": [
              "'daniel'"
            ]
          },
          "metadata": {
            "tags": []
          },
          "execution_count": 5
        }
      ]
    },
    {
      "cell_type": "code",
      "metadata": {
        "colab": {
          "base_uri": "https://localhost:8080/"
        },
        "id": "iG8-6ENLcsnp",
        "outputId": "5d7ae510-bb1a-43ce-d15a-3498cc36ac13"
      },
      "source": [
        "validateFloat('ingrese Peso')"
      ],
      "execution_count": null,
      "outputs": [
        {
          "output_type": "stream",
          "text": [
            "ingrese Pesosd\n",
            "datos incorrectos ingrese nuevamente\n",
            "ingrese Pesods5\n",
            "datos incorrectos ingrese nuevamente\n",
            "ingrese Peso84\n"
          ],
          "name": "stdout"
        },
        {
          "output_type": "execute_result",
          "data": {
            "text/plain": [
              "84.0"
            ]
          },
          "metadata": {
            "tags": []
          },
          "execution_count": 3
        }
      ]
    },
    {
      "cell_type": "code",
      "metadata": {
        "id": "90uI_cQYco51"
      },
      "source": [
        "#Calcular imc => Estatura , peso =>peso/estatura^2\n",
        "def pedirDatosEPN():\n",
        "  '''\n",
        "    Se le pide al usuario el peso la estatura \n",
        "    y el nombre\n",
        "    validando que la data este buena\n",
        "  '''\n",
        "  preguntaPeso = 'Ingrese su peso en kg :'\n",
        "  preguntaEstatura = 'Ingrese su estatura en metros : '\n",
        "  preguntaNombre = 'Ingrese su Nombre :'\n",
        "  peso = validateFloat(preguntaPeso)\n",
        "  estatura = validateFloat(preguntaEstatura)\n",
        "  nombre = validateString (preguntaNombre)\n",
        "  return peso,estatura, nombre"
      ],
      "execution_count": null,
      "outputs": []
    },
    {
      "cell_type": "code",
      "metadata": {
        "id": "_KQL_noddy_R"
      },
      "source": [
        "def calcularIMC ():\n",
        "  pesoIn, estaturaIn, nombreIn = pedirDatosEPN()\n",
        "  imc = pesoIn/ (estaturaIn**2)\n",
        "  return imc, nombreIn"
      ],
      "execution_count": null,
      "outputs": []
    },
    {
      "cell_type": "code",
      "metadata": {
        "colab": {
          "base_uri": "https://localhost:8080/"
        },
        "id": "TRcLOgNufC7b",
        "outputId": "ca89d404-989f-41c4-8279-5e7f11258dd1"
      },
      "source": [
        "calcularIMC()"
      ],
      "execution_count": null,
      "outputs": [
        {
          "output_type": "stream",
          "text": [
            "Ingrese su peso en kg :84\n",
            "Ingrese su estatura en metros : 1.67\n",
            "Ingrese su Nombre :Daniel\n"
          ],
          "name": "stdout"
        },
        {
          "output_type": "execute_result",
          "data": {
            "text/plain": [
              "30.11940191473341"
            ]
          },
          "metadata": {
            "tags": []
          },
          "execution_count": 11
        }
      ]
    },
    {
      "cell_type": "code",
      "metadata": {
        "colab": {
          "base_uri": "https://localhost:8080/"
        },
        "id": "R8CJyz1CeWM7",
        "outputId": "87523cde-7135-446a-e71a-dafc31538476"
      },
      "source": [
        "imc, nombre = calcularIMC()\n",
        "print(imc, nombre)\n",
        "print(f'El imc de {nombre} es de {imc} %')"
      ],
      "execution_count": null,
      "outputs": [
        {
          "output_type": "stream",
          "text": [
            "Ingrese su peso en kg :asd\n",
            "datos incorrectos ingrese nuevamente\n",
            "Ingrese su peso en kg :84\n",
            "Ingrese su estatura en metros : da\n",
            "datos incorrectos ingrese nuevamente\n",
            "Ingrese su estatura en metros : 1.67\n",
            "Ingrese su Nombre :45456\n",
            "datos incorrectos ingrese nuevamente\n",
            "Ingrese su Nombre :Da4137\n",
            "datos incorrectos ingrese nuevamente\n",
            "Ingrese su Nombre :Daniel\n",
            "30.11940191473341 Daniel\n",
            "El imc de Daniel es de 30.11940191473341 %\n"
          ],
          "name": "stdout"
        }
      ]
    },
    {
      "cell_type": "markdown",
      "metadata": {
        "id": "v2FvmAMsaU77"
      },
      "source": [
        "Punto2. Pida al usuario que ingrese un párrafo y luego muestre en pantalla cual es la palabra más grande, la palabra más pequeña. Valide que el párrafo ingresado termine en punto sino es así se debe pedir al usuario que ingrese nuevamente el párrafo. "
      ]
    },
    {
      "cell_type": "code",
      "metadata": {
        "id": "mB2teHgFaXwT"
      },
      "source": [
        "def validateEndWith(strValidate, pregunta):\n",
        "  isCorrectData = False\n",
        "  while (isCorrectData == False):\n",
        "    try:\n",
        "      valor = input(pregunta)\n",
        "      assert(valor.endswith(strValidate))\n",
        "      isCorrectData = True\n",
        "    except AssertionError:\n",
        "      print(f'datos incorrectos ingrese nuevamente y recuerde que debe terminar con \"{strValidate}\" ')\n",
        "  return valor \n"
      ],
      "execution_count": null,
      "outputs": []
    },
    {
      "cell_type": "code",
      "metadata": {
        "colab": {
          "base_uri": "https://localhost:8080/"
        },
        "id": "hMyEp4ODgVbc",
        "outputId": "049d11e2-63af-4781-b78d-a5083333e3c4"
      },
      "source": [
        "parrafo =validateEndWith('.','ingrese un parrafo.')\n",
        "parrafo = parrafo[:-1]\n",
        "palabras = parrafo.split(' ')\n",
        "print(palabras)\n",
        "print(f'la palabra más grande es \"{max(palabras, key=len)}\" y el menor es \"{min(palabras, key=len)}\"')\n",
        "\n",
        "parrafo = 'hola, como anda todo, Muchachos'\n",
        "parrafo = parrafo.replace(',','')\n",
        "print(parrafo)\n",
        "palabras = parrafo.split(' ')\n",
        "print(palabras)"
      ],
      "execution_count": null,
      "outputs": [
        {
          "output_type": "stream",
          "text": [
            "ingrese un parrafo.trabaja ayer con las tecnologías del mañana y dominaras el presente.\n",
            "['trabaja', 'ayer', 'con', 'las', 'tecnologías', 'del', 'mañana', 'y', 'dominaras', 'el', 'presente']\n",
            "la palabra más grande es \"tecnologías\" y el menor es \"y\"\n",
            "hola como anda todo Muchachos\n",
            "['hola', 'como', 'anda', 'todo', 'Muchachos']\n"
          ],
          "name": "stdout"
        }
      ]
    },
    {
      "cell_type": "code",
      "metadata": {
        "colab": {
          "base_uri": "https://localhost:8080/"
        },
        "id": "G37Sooo1j4wm",
        "outputId": "b73a0b91-fff0-435d-b14e-b6d6142efe4b"
      },
      "source": [
        "parrafo = 'y e a'\n",
        "palabras = parrafo.split(' ')\n",
        "print (min(palabras))"
      ],
      "execution_count": null,
      "outputs": [
        {
          "output_type": "stream",
          "text": [
            "a\n"
          ],
          "name": "stdout"
        }
      ]
    },
    {
      "cell_type": "markdown",
      "metadata": {
        "id": "OYgkScoZarEe"
      },
      "source": [
        "Punto3. Un taller de biomédica desea tener un archivo para el manejo de los clientes, se pide que desarrolle un programa que en su primera ejecución cree el archivo llamado mantenimientos.txt. Luego en cada ejecución se preguntará por el nombre del equipo médico, una descripción y el precio acordado para el mantenimiento (se deben almacenar estos datos nuevos en el archivo mantenimientos.txt)."
      ]
    },
    {
      "cell_type": "code",
      "metadata": {
        "id": "_BYbnQErjtYZ"
      },
      "source": [
        "def validarArchivo(nombreArchivo, descripcion):\n",
        "  try:\n",
        "    archivo = open(nombreArchivo)\n",
        "    return True\n",
        "  except FileNotFoundError:\n",
        "    archivo = open(nombreArchivo, 'w', encoding='UTF-8')\n",
        "    print(\"2\")\n",
        "    archivo.writelines(descripcion)\n",
        "    return False"
      ],
      "execution_count": null,
      "outputs": []
    },
    {
      "cell_type": "code",
      "metadata": {
        "id": "B5BJfZIlmm_b"
      },
      "source": [
        "def guardarLinea (nombreArchivo, lineaIn):\n",
        "  archivo = open(nombreArchivo,'a')\n",
        "  archivo.writelines(lineaIn)"
      ],
      "execution_count": null,
      "outputs": []
    },
    {
      "cell_type": "code",
      "metadata": {
        "colab": {
          "base_uri": "https://localhost:8080/"
        },
        "id": "wNfjhyORlMLW",
        "outputId": "a6c69bb3-0044-498f-cf9c-ca57bdf87a41"
      },
      "source": [
        "nameFile = \"mantenimientos.txt\"\n",
        "isValidate = validarArchivo(nameFile, 'Seguimiento de mantenimiento de equipos medicos')\n",
        "if (isValidate):\n",
        "  descEquipo = input('Ingrese la descripción del equipo : ')\n",
        "  nombre = validateString('Ingrese su nombre :')\n",
        "  precio = validateFloat('Ingrese el precio : ')\n",
        "  linea ='\\nDescripcion'+ descEquipo+ ' nombre técnico: ' + nombre + ' precio acordado: '+ str(precio)\n",
        "  guardarLinea(nameFile, linea)\n",
        "else:\n",
        "  print('se creó el archivo')"
      ],
      "execution_count": null,
      "outputs": [
        {
          "output_type": "stream",
          "text": [
            "Ingrese la descripción del equipo : sd\n",
            "Ingrese su nombre :sd\n",
            "Ingrese el precio : 1.64\n"
          ],
          "name": "stdout"
        }
      ]
    }
  ]
}